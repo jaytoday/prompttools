{
 "cells": [
  {
   "cell_type": "markdown",
   "id": "0a13ddc8",
   "metadata": {},
   "source": [
    "# Pinecone Experiment Example"
   ]
  },
  {
   "cell_type": "markdown",
   "id": "623f0cfe",
   "metadata": {},
   "source": [
    "## Installations"
   ]
  },
  {
   "cell_type": "code",
   "execution_count": 1,
   "id": "885dabeb",
   "metadata": {},
   "outputs": [],
   "source": [
    "# !pip install --quiet --force-reinstall prompttools"
   ]
  },
  {
   "cell_type": "markdown",
   "id": "2eac35f8",
   "metadata": {},
   "source": [
    "## Setup imports and API keys"
   ]
  },
  {
   "cell_type": "markdown",
   "id": "0957a5dd",
   "metadata": {},
   "source": [
    "First, we will set the API key and Pinecone environment name."
   ]
  },
  {
   "cell_type": "code",
   "execution_count": 1,
   "id": "97acda7e",
   "metadata": {},
   "outputs": [],
   "source": [
    "import os\n",
    "\n",
    "# os.environ[\"DEBUG\"] = \"1\"  # Set this to \"\" to call the API\n",
    "os.environ[\"PINECONE_API_KEY\"] = \"\"  # Insert your key here\n",
    "os.environ[\"PINECONE_ENVIRONMENT\"] = \"\"  # Insert the environment name here"
   ]
  },
  {
   "cell_type": "markdown",
   "id": "842f1e47",
   "metadata": {},
   "source": [
    "We'll import the relevant `prompttools` modules to setup our experiment."
   ]
  },
  {
   "cell_type": "code",
   "execution_count": 2,
   "id": "beaa70a1",
   "metadata": {
    "ExecuteTime": {
     "end_time": "2023-07-20T07:13:56.823039Z",
     "start_time": "2023-07-20T07:13:55.927616Z"
    }
   },
   "outputs": [],
   "source": [
    "from prompttools.experiment import PineconeExperiment\n",
    "import pinecone"
   ]
  },
  {
   "cell_type": "markdown",
   "id": "eacc4c79",
   "metadata": {},
   "source": [
    "## Inserting data in advance"
   ]
  },
  {
   "cell_type": "markdown",
   "id": "c604708a",
   "metadata": {},
   "source": [
    "In general, we recommend inserting your data prior to the experiment before Pinecone is **eventually consistent**, such that there will be a **delay** before you can successfully query your data that you just inserted.\n",
    "\n",
    "Here is an example of how you can insert your data:"
   ]
  },
  {
   "cell_type": "code",
   "execution_count": 7,
   "id": "dfd37f5d",
   "metadata": {},
   "outputs": [
    {
     "name": "stderr",
     "output_type": "stream",
     "text": [
      "/Users/kevin/miniconda3/envs/prompttools/lib/python3.11/site-packages/pinecone/core/client/rest.py:45: DeprecationWarning: HTTPResponse.getheader() is deprecated and will be removed in urllib3 v2.1.0. Instead use HTTPResponse.headers.get(name, default).\n",
      "  return self.urllib3_response.getheader(name, default)\n"
     ]
    }
   ],
   "source": [
    "index_name = \"test\"\n",
    "data = [\n",
    "    (\"A\", [0.1, 0.1, 0.1, 0.1, 0.1, 0.1, 0.1, 0.1]),\n",
    "    (\"B\", [0.2, 0.2, 0.2, 0.2, 0.2, 0.2, 0.2, 0.2]),\n",
    "    (\"C\", [0.3, 0.3, 0.3, 0.3, 0.3, 0.3, 0.3, 0.3]),\n",
    "    (\"D\", [0.4, 0.4, 0.4, 0.4, 0.4, 0.4, 0.4, 0.4]),\n",
    "    (\"E\", [0.5, 0.5, 0.5, 0.5, 0.5, 0.5, 0.5, 0.5])\n",
    "]\n",
    "\n",
    "pinecone.init(api_key=os.environ[\"PINECONE_API_KEY\"], environment=os.environ[\"PINECONE_ENVIRONMENT\"])\n",
    "try:\n",
    "    pinecone.delete_index(index_name)  # Optional, delete your index if it already exists\n",
    "except Exception:\n",
    "    pass\n",
    "create_index_params = {\"dimension\": 8, \"metric\": \"euclidean\"}\n",
    "pinecone.create_index(index_name, **create_index_params)\n",
    "index = pinecone.Index(index_name)\n",
    "index.upsert(data)"
   ]
  },
  {
   "cell_type": "markdown",
   "id": "0c33fe9f",
   "metadata": {},
   "source": [
    "You can have a look at your index's status:"
   ]
  },
  {
   "cell_type": "code",
   "execution_count": 25,
   "id": "1bd3c368",
   "metadata": {},
   "outputs": [
    {
     "data": {
      "text/plain": [
       "IndexDescription(name='test', metric='euclidean', replicas=1, dimension=8.0, shards=1, pods=1, pod_type='starter', status={'ready': True, 'state': 'Ready'}, metadata_config=None, source_collection='')"
      ]
     },
     "execution_count": 25,
     "metadata": {},
     "output_type": "execute_result"
    }
   ],
   "source": [
    "pinecone.describe_index(index_name)"
   ]
  },
  {
   "cell_type": "markdown",
   "id": "99087fbe",
   "metadata": {},
   "source": [
    "Make sure the vector count matches what you expect before trying to query. There is generally a delay after insertion because Pinecone is eventually consistent. You can check by:"
   ]
  },
  {
   "cell_type": "code",
   "execution_count": null,
   "id": "7ffc3f47",
   "metadata": {},
   "outputs": [],
   "source": [
    "index.describe_index_stats()"
   ]
  },
  {
   "cell_type": "markdown",
   "id": "622dea9a",
   "metadata": {},
   "source": [
    "## Run an experiment"
   ]
  },
  {
   "cell_type": "markdown",
   "id": "3babfe5a",
   "metadata": {},
   "source": [
    "You can also insert your data during the experiment, but there will be delay during the experiment to wait for the data to show up in Pinecone.\n",
    "\n",
    "If you choose to do this, a new Pinecone index will be temporarily created. The data will be added into it. Then, we will query from it and examine the results. The experiment will automatically clean up the index afterwards."
   ]
  },
  {
   "cell_type": "code",
   "execution_count": 3,
   "id": "9114cfbf",
   "metadata": {
    "ExecuteTime": {
     "end_time": "2023-07-20T07:13:56.829960Z",
     "start_time": "2023-07-20T07:13:56.825481Z"
    }
   },
   "outputs": [],
   "source": [
    "index_name = \"test\"\n",
    "\n",
    "# Index configuration\n",
    "create_index_params = {\"dimension\": 8, \"metric\": \"euclidean\"}\n",
    "\n",
    "# Documents that will be added into the database\n",
    "data = [\n",
    "    (\"A\", [0.1, 0.1, 0.1, 0.1, 0.1, 0.1, 0.1, 0.1]),\n",
    "    (\"B\", [0.2, 0.2, 0.2, 0.2, 0.2, 0.2, 0.2, 0.2]),\n",
    "    (\"C\", [0.3, 0.3, 0.3, 0.3, 0.3, 0.3, 0.3, 0.3]),\n",
    "    (\"D\", [0.4, 0.4, 0.4, 0.4, 0.4, 0.4, 0.4, 0.4]),\n",
    "    (\"E\", [0.5, 0.5, 0.5, 0.5, 0.5, 0.5, 0.5, 0.5])\n",
    "]\n",
    "\n",
    "# Our test queries\n",
    "test_queries =  [\n",
    "    [0.3, 0.3, 0.3, 0.3, 0.3, 0.3, 0.3, 0.3],\n",
    "    [0.2, 0.2, 0.2, 0.2, 0.2, 0.2, 0.2, 0.2],\n",
    "    [0.1, 0.1, 0.1, 0.1, 0.1, 0.1, 0.1, 0.1],\n",
    "]\n",
    "\n",
    "query_index_params = {\n",
    "  \"vector\": test_queries,\n",
    "  \"top_k\": [3],\n",
    "  \"include_values\": [True],\n",
    "}\n",
    "\n",
    "\n",
    "# Set up the experiment\n",
    "experiment = PineconeExperiment(\n",
    "    index_name,\n",
    "    use_existing_index = False,  # Switch to `True` if you # Optional. if you inserted data in advnace\n",
    "    query_index_params = query_index_params,\n",
    "    create_index_params = create_index_params,  # Optional. if you inserted data in advnace\n",
    "    data = data,  # Optional. if you inserted data in advnace\n",
    ")"
   ]
  },
  {
   "cell_type": "markdown",
   "id": "f3fa5450",
   "metadata": {},
   "source": [
    "We can then run the experiment to get results."
   ]
  },
  {
   "cell_type": "code",
   "execution_count": 4,
   "id": "83b33130",
   "metadata": {
    "ExecuteTime": {
     "end_time": "2023-07-20T07:16:21.469371Z",
     "start_time": "2023-07-20T07:16:21.462342Z"
    }
   },
   "outputs": [
    {
     "name": "stderr",
     "output_type": "stream",
     "text": [
      "/Users/kevin/miniconda3/envs/prompttools/lib/python3.11/site-packages/pinecone/core/client/rest.py:45: DeprecationWarning: HTTPResponse.getheader() is deprecated and will be removed in urllib3 v2.1.0. Instead use HTTPResponse.headers.get(name, default).\n",
      "  return self.urllib3_response.getheader(name, default)\n"
     ]
    },
    {
     "name": "stdout",
     "output_type": "stream",
     "text": [
      "Waiting for Pinecone's eventual consistency after inserting data.\n",
      "Waiting for Pinecone's eventual consistency after inserting data.\n",
      "Waiting for Pinecone's eventual consistency after inserting data.\n",
      "Waiting for Pinecone's eventual consistency after inserting data.\n"
     ]
    }
   ],
   "source": [
    "experiment.run()"
   ]
  },
  {
   "cell_type": "markdown",
   "id": "1b013dca",
   "metadata": {},
   "source": [
    "You can see the top 3 doc IDs of each of your queries."
   ]
  },
  {
   "cell_type": "code",
   "execution_count": 7,
   "id": "01c7e682",
   "metadata": {},
   "outputs": [
    {
     "data": {
      "text/html": [
       "<div>\n",
       "<style scoped>\n",
       "    .dataframe tbody tr th:only-of-type {\n",
       "        vertical-align: middle;\n",
       "    }\n",
       "\n",
       "    .dataframe tbody tr th {\n",
       "        vertical-align: top;\n",
       "    }\n",
       "\n",
       "    .dataframe thead th {\n",
       "        text-align: right;\n",
       "    }\n",
       "</style>\n",
       "<table border=\"1\" class=\"dataframe\">\n",
       "  <thead>\n",
       "    <tr style=\"text-align: right;\">\n",
       "      <th></th>\n",
       "      <th>vector</th>\n",
       "      <th>top doc ids</th>\n",
       "      <th>scores</th>\n",
       "      <th>documents</th>\n",
       "      <th>latency</th>\n",
       "    </tr>\n",
       "  </thead>\n",
       "  <tbody>\n",
       "    <tr>\n",
       "      <th>0</th>\n",
       "      <td>[0.3, 0.3, 0.3, 0.3, 0.3, 0.3, 0.3, 0.3]</td>\n",
       "      <td>[C, D, B]</td>\n",
       "      <td>[0.0, 0.0799999237, 0.0800000429]</td>\n",
       "      <td>[[0.3, 0.3, 0.3, 0.3, 0.3, 0.3, 0.3, 0.3], [0.4, 0.4, 0.4, 0.4, 0.4, 0.4, 0.4, 0.4], [0.2, 0.2, 0.2, 0.2, 0.2, 0.2, 0.2, 0.2]]</td>\n",
       "      <td>0.368411</td>\n",
       "    </tr>\n",
       "    <tr>\n",
       "      <th>1</th>\n",
       "      <td>[0.2, 0.2, 0.2, 0.2, 0.2, 0.2, 0.2, 0.2]</td>\n",
       "      <td>[B, A, C]</td>\n",
       "      <td>[0.0, 0.0800000131, 0.0800000429]</td>\n",
       "      <td>[[0.2, 0.2, 0.2, 0.2, 0.2, 0.2, 0.2, 0.2], [0.1, 0.1, 0.1, 0.1, 0.1, 0.1, 0.1, 0.1], [0.3, 0.3, 0.3, 0.3, 0.3, 0.3, 0.3, 0.3]]</td>\n",
       "      <td>0.107679</td>\n",
       "    </tr>\n",
       "    <tr>\n",
       "      <th>2</th>\n",
       "      <td>[0.1, 0.1, 0.1, 0.1, 0.1, 0.1, 0.1, 0.1]</td>\n",
       "      <td>[A, B, C]</td>\n",
       "      <td>[0.0, 0.0800000131, 0.32]</td>\n",
       "      <td>[[0.1, 0.1, 0.1, 0.1, 0.1, 0.1, 0.1, 0.1], [0.2, 0.2, 0.2, 0.2, 0.2, 0.2, 0.2, 0.2], [0.3, 0.3, 0.3, 0.3, 0.3, 0.3, 0.3, 0.3]]</td>\n",
       "      <td>0.127923</td>\n",
       "    </tr>\n",
       "  </tbody>\n",
       "</table>\n",
       "</div>"
      ],
      "text/plain": [
       "                                     vector top doc ids  \\\n",
       "0  [0.3, 0.3, 0.3, 0.3, 0.3, 0.3, 0.3, 0.3]  [C, D, B]    \n",
       "1  [0.2, 0.2, 0.2, 0.2, 0.2, 0.2, 0.2, 0.2]  [B, A, C]    \n",
       "2  [0.1, 0.1, 0.1, 0.1, 0.1, 0.1, 0.1, 0.1]  [A, B, C]    \n",
       "\n",
       "                              scores  \\\n",
       "0  [0.0, 0.0799999237, 0.0800000429]   \n",
       "1  [0.0, 0.0800000131, 0.0800000429]   \n",
       "2  [0.0, 0.0800000131, 0.32]           \n",
       "\n",
       "                                                                                                                        documents  \\\n",
       "0  [[0.3, 0.3, 0.3, 0.3, 0.3, 0.3, 0.3, 0.3], [0.4, 0.4, 0.4, 0.4, 0.4, 0.4, 0.4, 0.4], [0.2, 0.2, 0.2, 0.2, 0.2, 0.2, 0.2, 0.2]]   \n",
       "1  [[0.2, 0.2, 0.2, 0.2, 0.2, 0.2, 0.2, 0.2], [0.1, 0.1, 0.1, 0.1, 0.1, 0.1, 0.1, 0.1], [0.3, 0.3, 0.3, 0.3, 0.3, 0.3, 0.3, 0.3]]   \n",
       "2  [[0.1, 0.1, 0.1, 0.1, 0.1, 0.1, 0.1, 0.1], [0.2, 0.2, 0.2, 0.2, 0.2, 0.2, 0.2, 0.2], [0.3, 0.3, 0.3, 0.3, 0.3, 0.3, 0.3, 0.3]]   \n",
       "\n",
       "    latency  \n",
       "0  0.368411  \n",
       "1  0.107679  \n",
       "2  0.127923  "
      ]
     },
     "metadata": {},
     "output_type": "display_data"
    }
   ],
   "source": [
    "experiment.visualize()"
   ]
  },
  {
   "cell_type": "markdown",
   "id": "266c13eb",
   "metadata": {},
   "source": [
    "## Evaluate the model response"
   ]
  },
  {
   "cell_type": "markdown",
   "id": "bebb8023",
   "metadata": {},
   "source": [
    "To evaluate the results, we'll define an evaluation function. Sometimes, you know order of the most relevant document should be given a query, and you can compute the correlation between expected ranking and actual ranking.\n",
    "\n",
    "Note: there is a built-in version of this function that you can import (scroll further below to see an example)."
   ]
  },
  {
   "cell_type": "code",
   "execution_count": 5,
   "id": "8ddbb951",
   "metadata": {},
   "outputs": [],
   "source": [
    "import scipy.stats as stats\n",
    "\n",
    "# For each query, you can define what the expected ranking is.\n",
    "EXPECTED_RANKING = {\n",
    "    (0.3, 0.3, 0.3, 0.3, 0.3, 0.3, 0.3, 0.3): [\"C\", \"D\", \"B\"],\n",
    "    (0.2, 0.2, 0.2, 0.2, 0.2, 0.2, 0.2, 0.2): [\"B\", \"C\", \"A\"],\n",
    "    (0.1, 0.1, 0.1, 0.1, 0.1, 0.1, 0.1, 0.1): [\"A\", \"C\", \"B\"],\n",
    "}\n",
    "\n",
    "\n",
    "def measure_correlation(row: \"pandas.core.series.Series\", ranking_column_name: str = \"top doc ids\") -> float:\n",
    "    r\"\"\"\n",
    "    A simple test that compares the expected ranking for a given query with the actual ranking produced\n",
    "    by the embedding function being tested.\n",
    "    \"\"\"\n",
    "    input_query = tuple(row[\"vector\"])\n",
    "    correlation, _ = stats.spearmanr(row[ranking_column_name], EXPECTED_RANKING[input_query])\n",
    "    return correlation"
   ]
  },
  {
   "cell_type": "markdown",
   "id": "974d6065",
   "metadata": {},
   "source": [
    "Finally, we can evaluate and visualize the results."
   ]
  },
  {
   "cell_type": "code",
   "execution_count": 6,
   "id": "e80dfeec",
   "metadata": {
    "scrolled": true
   },
   "outputs": [],
   "source": [
    "experiment.evaluate(\"ranking_correlation\", measure_correlation)"
   ]
  },
  {
   "cell_type": "code",
   "execution_count": 7,
   "id": "4d09c18e",
   "metadata": {
    "scrolled": true
   },
   "outputs": [
    {
     "data": {
      "text/html": [
       "<div>\n",
       "<style scoped>\n",
       "    .dataframe tbody tr th:only-of-type {\n",
       "        vertical-align: middle;\n",
       "    }\n",
       "\n",
       "    .dataframe tbody tr th {\n",
       "        vertical-align: top;\n",
       "    }\n",
       "\n",
       "    .dataframe thead th {\n",
       "        text-align: right;\n",
       "    }\n",
       "</style>\n",
       "<table border=\"1\" class=\"dataframe\">\n",
       "  <thead>\n",
       "    <tr style=\"text-align: right;\">\n",
       "      <th></th>\n",
       "      <th>vector</th>\n",
       "      <th>top doc ids</th>\n",
       "      <th>scores</th>\n",
       "      <th>documents</th>\n",
       "      <th>latency</th>\n",
       "      <th>ranking_correlation</th>\n",
       "    </tr>\n",
       "  </thead>\n",
       "  <tbody>\n",
       "    <tr>\n",
       "      <th>0</th>\n",
       "      <td>[0.3, 0.3, 0.3, 0.3, 0.3, 0.3, 0.3, 0.3]</td>\n",
       "      <td>[C, D, B]</td>\n",
       "      <td>[0.0, 0.0799999237, 0.0800000429]</td>\n",
       "      <td>[[0.3, 0.3, 0.3, 0.3, 0.3, 0.3, 0.3, 0.3], [0.4, 0.4, 0.4, 0.4, 0.4, 0.4, 0.4, 0.4], [0.2, 0.2, 0.2, 0.2, 0.2, 0.2, 0.2, 0.2]]</td>\n",
       "      <td>0.390167</td>\n",
       "      <td>1.0</td>\n",
       "    </tr>\n",
       "    <tr>\n",
       "      <th>1</th>\n",
       "      <td>[0.2, 0.2, 0.2, 0.2, 0.2, 0.2, 0.2, 0.2]</td>\n",
       "      <td>[B, A, C]</td>\n",
       "      <td>[0.0, 0.0800000131, 0.0800000429]</td>\n",
       "      <td>[[0.2, 0.2, 0.2, 0.2, 0.2, 0.2, 0.2, 0.2], [0.1, 0.1, 0.1, 0.1, 0.1, 0.1, 0.1, 0.1], [0.3, 0.3, 0.3, 0.3, 0.3, 0.3, 0.3, 0.3]]</td>\n",
       "      <td>0.102859</td>\n",
       "      <td>-1.0</td>\n",
       "    </tr>\n",
       "    <tr>\n",
       "      <th>2</th>\n",
       "      <td>[0.1, 0.1, 0.1, 0.1, 0.1, 0.1, 0.1, 0.1]</td>\n",
       "      <td>[A, B, C]</td>\n",
       "      <td>[0.0, 0.0800000131, 0.32]</td>\n",
       "      <td>[[0.1, 0.1, 0.1, 0.1, 0.1, 0.1, 0.1, 0.1], [0.2, 0.2, 0.2, 0.2, 0.2, 0.2, 0.2, 0.2], [0.3, 0.3, 0.3, 0.3, 0.3, 0.3, 0.3, 0.3]]</td>\n",
       "      <td>0.112139</td>\n",
       "      <td>0.5</td>\n",
       "    </tr>\n",
       "  </tbody>\n",
       "</table>\n",
       "</div>"
      ],
      "text/plain": [
       "                                     vector top doc ids  \\\n",
       "0  [0.3, 0.3, 0.3, 0.3, 0.3, 0.3, 0.3, 0.3]  [C, D, B]    \n",
       "1  [0.2, 0.2, 0.2, 0.2, 0.2, 0.2, 0.2, 0.2]  [B, A, C]    \n",
       "2  [0.1, 0.1, 0.1, 0.1, 0.1, 0.1, 0.1, 0.1]  [A, B, C]    \n",
       "\n",
       "                              scores  \\\n",
       "0  [0.0, 0.0799999237, 0.0800000429]   \n",
       "1  [0.0, 0.0800000131, 0.0800000429]   \n",
       "2  [0.0, 0.0800000131, 0.32]           \n",
       "\n",
       "                                                                                                                        documents  \\\n",
       "0  [[0.3, 0.3, 0.3, 0.3, 0.3, 0.3, 0.3, 0.3], [0.4, 0.4, 0.4, 0.4, 0.4, 0.4, 0.4, 0.4], [0.2, 0.2, 0.2, 0.2, 0.2, 0.2, 0.2, 0.2]]   \n",
       "1  [[0.2, 0.2, 0.2, 0.2, 0.2, 0.2, 0.2, 0.2], [0.1, 0.1, 0.1, 0.1, 0.1, 0.1, 0.1, 0.1], [0.3, 0.3, 0.3, 0.3, 0.3, 0.3, 0.3, 0.3]]   \n",
       "2  [[0.1, 0.1, 0.1, 0.1, 0.1, 0.1, 0.1, 0.1], [0.2, 0.2, 0.2, 0.2, 0.2, 0.2, 0.2, 0.2], [0.3, 0.3, 0.3, 0.3, 0.3, 0.3, 0.3, 0.3]]   \n",
       "\n",
       "    latency  ranking_correlation  \n",
       "0  0.390167  1.0                  \n",
       "1  0.102859 -1.0                  \n",
       "2  0.112139  0.5                  "
      ]
     },
     "metadata": {},
     "output_type": "display_data"
    }
   ],
   "source": [
    "experiment.visualize()"
   ]
  }
 ],
 "metadata": {
  "kernelspec": {
   "display_name": "Python 3 (ipykernel)",
   "language": "python",
   "name": "python3"
  },
  "language_info": {
   "codemirror_mode": {
    "name": "ipython",
    "version": 3
   },
   "file_extension": ".py",
   "mimetype": "text/x-python",
   "name": "python",
   "nbconvert_exporter": "python",
   "pygments_lexer": "ipython3",
   "version": "3.11.4"
  }
 },
 "nbformat": 4,
 "nbformat_minor": 5
}
