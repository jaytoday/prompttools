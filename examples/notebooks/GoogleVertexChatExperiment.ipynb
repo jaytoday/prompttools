{
 "cells": [
  {
   "cell_type": "markdown",
   "metadata": {},
   "source": [
    "# Google Vertex Chat Experiment Example"
   ]
  },
  {
   "cell_type": "markdown",
   "metadata": {},
   "source": [
    "## Installations"
   ]
  },
  {
   "cell_type": "code",
   "execution_count": null,
   "metadata": {},
   "outputs": [],
   "source": [
    "# !pip install --quiet --force-reinstall prompttools"
   ]
  },
  {
   "cell_type": "markdown",
   "metadata": {},
   "source": [
    "## Setup imports and API keys"
   ]
  },
  {
   "cell_type": "markdown",
   "metadata": {},
   "source": [
    "In order for the Google Vertex AI API to work, you must set up your Google aiplatform credentials (one example in the following cell) or execute this experiment on https://console.cloud.google.com/vertex-ai/."
   ]
  },
  {
   "cell_type": "code",
   "execution_count": 5,
   "metadata": {},
   "outputs": [],
   "source": [
    "# from google.cloud import aiplatform\n",
    "\n",
    "# aiplatform.init(\n",
    "#     project=project,\n",
    "#     location=location,\n",
    "#     experiment=experiment,\n",
    "#     staging_bucket=staging_bucket,\n",
    "#     credentials=credentials,\n",
    "#     encryption_spec_key_name=encryption_spec_key_name,\n",
    "#     service_account=service_account,\n",
    "# )"
   ]
  },
  {
   "cell_type": "markdown",
   "metadata": {},
   "source": [
    "Once you succeed in setting up your credential, you should be able to execute the following cell without error."
   ]
  },
  {
   "cell_type": "code",
   "execution_count": null,
   "metadata": {},
   "outputs": [],
   "source": [
    "from vertexai.preview.language_models import ChatModel, InputOutputTextPair\n",
    "\n",
    "chat_model = ChatModel.from_pretrained(\"chat-bison\")"
   ]
  },
  {
   "cell_type": "markdown",
   "metadata": {},
   "source": [
    "Then we'll import the relevant `prompttools` modules to setup our experiment."
   ]
  },
  {
   "cell_type": "markdown",
   "metadata": {
    "ExecuteTime": {
     "end_time": "2023-07-28T21:15:15.360723Z",
     "start_time": "2023-07-28T21:15:15.230441Z"
    },
    "collapsed": true
   },
   "source": [
    "## Run an experiment"
   ]
  },
  {
   "cell_type": "markdown",
   "metadata": {},
   "source": [
    "Next, we create our test inputs. We can iterate over models (`\"chat-bison\"` in this case), context (equivalent of system message), message (equivalent of prompt). You can also experiment with configurations like temperature.\n"
   ]
  },
  {
   "cell_type": "code",
   "execution_count": 31,
   "metadata": {},
   "outputs": [],
   "source": [
    "from prompttools.experiment import GoogleVertexChatCompletionExperiment\n",
    "\n",
    "\n",
    "model = [\"chat-bison\"]\n",
    "\n",
    "context = [\"You are a helpful assistant.\",\n",
    "           \"Answer the following question only if you know the answer or can make a well-informed guess; otherwise tell me you don't know it. In addition, explain your reasoning of your final answer.\"]\n",
    "\n",
    "message = [\n",
    "    \"Is 97 a prime number?\",\n",
    "    \"Is 17077 a prime number?\",\n",
    "]\n",
    "\n",
    "experiment = GoogleVertexChatCompletionExperiment(model=model, message=message, context=context)"
   ]
  },
  {
   "cell_type": "code",
   "execution_count": null,
   "metadata": {},
   "outputs": [],
   "source": [
    "experiment.run()\n",
    "experiment.visualize()"
   ]
  },
  {
   "cell_type": "markdown",
   "metadata": {},
   "source": [
    "## Evaluate the model response"
   ]
  },
  {
   "cell_type": "markdown",
   "metadata": {},
   "source": [
    "Please reference other notebooks (such as Google PaLM 2, Anthropic) for detailed evaluation of the model's response."
   ]
  }
 ],
 "metadata": {
  "kernelspec": {
   "display_name": "Python 3 (ipykernel)",
   "language": "python",
   "name": "python3"
  },
  "language_info": {
   "codemirror_mode": {
    "name": "ipython",
    "version": 3
   },
   "file_extension": ".py",
   "mimetype": "text/x-python",
   "name": "python",
   "nbconvert_exporter": "python",
   "pygments_lexer": "ipython3",
   "version": "3.11.4"
  }
 },
 "nbformat": 4,
 "nbformat_minor": 1
}
