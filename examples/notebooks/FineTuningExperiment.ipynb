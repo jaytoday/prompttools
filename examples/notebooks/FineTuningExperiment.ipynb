{
 "cells": [
  {
   "cell_type": "markdown",
   "id": "cf18498b",
   "metadata": {},
   "source": [
    "# Fine Tuning Experiment: OpenAI's GPT-3.5 vs Llama 2 on Replicate"
   ]
  },
  {
   "cell_type": "markdown",
   "id": "888171a9",
   "metadata": {},
   "source": [
    "## Introduction\n",
    "\n",
    "This notebook shows how to compare different fine tuned versions of the same model on OpenAI and Replicate. For this example, we'll compare GPT-3.5 to Llama 2 70b, fine tuned to generate SQL queries from natural language questions."
   ]
  },
  {
   "cell_type": "markdown",
   "id": "623f0cfe",
   "metadata": {},
   "source": [
    "## Installations"
   ]
  },
  {
   "cell_type": "markdown",
   "id": "abbc7d2a",
   "metadata": {},
   "source": [
    "You may need to install `prompttools`, `replicate`, and HuggingFace's `datasets` to complete this example."
   ]
  },
  {
   "cell_type": "code",
   "execution_count": null,
   "id": "885dabeb",
   "metadata": {},
   "outputs": [],
   "source": [
    "# !pip install --quiet --force-reinstall prompttools datasets replicate"
   ]
  },
  {
   "cell_type": "markdown",
   "id": "2eac35f8",
   "metadata": {},
   "source": [
    "## Setup imports and API keys"
   ]
  },
  {
   "cell_type": "markdown",
   "id": "5edba05a",
   "metadata": {},
   "source": [
    "First, we'll need to set our API keys. If we are in DEBUG mode, we don't need to use a real OpenAI key, so for now we'll set them to empty strings."
   ]
  },
  {
   "cell_type": "code",
   "execution_count": 1,
   "id": "ed4e635e",
   "metadata": {},
   "outputs": [],
   "source": [
    "import os\n",
    "\n",
    "os.environ[\"DEBUG\"] = \"\"  # Set this to \"\" to call OpenAI's API\n",
    "os.environ[\"OPENAI_API_KEY\"] = \"\"  # Insert your key here"
   ]
  },
  {
   "cell_type": "markdown",
   "id": "842f1e47",
   "metadata": {},
   "source": [
    "Then we'll import the relevant `prompttools` modules to setup our experiment."
   ]
  },
  {
   "cell_type": "code",
   "execution_count": 2,
   "id": "beaa70a1",
   "metadata": {},
   "outputs": [],
   "source": [
    "from typing import Dict, List\n",
    "from datasets import load_dataset\n",
    "from prompttools.experiment import OpenAIChatExperiment"
   ]
  },
  {
   "cell_type": "markdown",
   "id": "62413948",
   "metadata": {},
   "source": [
    "## Preprocess Data\n",
    "\n",
    "For this experiment, we'll use the `wikisql` dataset from HuggingFace. We can remove some of the metadata from the inputs to create fine tuning data for gpt-3.5 and Llama 2."
   ]
  },
  {
   "cell_type": "code",
   "execution_count": 3,
   "id": "9e94cbd6",
   "metadata": {},
   "outputs": [
    {
     "name": "stderr",
     "output_type": "stream",
     "text": [
      "Found cached dataset wikisql (/Users/stevenkrawczyk/.cache/huggingface/datasets/wikisql/default/0.1.0/7037bfe6a42b1ca2b6ac3ccacba5253b1825d31379e9cc626fc79a620977252d)\n"
     ]
    },
    {
     "data": {
      "application/vnd.jupyter.widget-view+json": {
       "model_id": "c5ff2f14b48b44848f2fa1ae4ab3690c",
       "version_major": 2,
       "version_minor": 0
      },
      "text/plain": [
       "  0%|          | 0/3 [00:00<?, ?it/s]"
      ]
     },
     "metadata": {},
     "output_type": "display_data"
    }
   ],
   "source": [
    "dataset = load_dataset(\"wikisql\")"
   ]
  },
  {
   "cell_type": "code",
   "execution_count": null,
   "id": "9a9d436f",
   "metadata": {},
   "outputs": [],
   "source": [
    "from tqdm import tqdm\n",
    "\n",
    "filtered_set = []\n",
    "\n",
    "for entry in tqdm(dataset['train']):\n",
    "    if entry['phase'] == 1:\n",
    "        modified_entry = {}\n",
    "        modified_entry['question'] = entry['question']\n",
    "        modified_entry['sql'] = entry['sql']['human_readable']\n",
    "        modified_entry['table'] = {}\n",
    "        modified_entry['table']['header'] = entry['table']['header']\n",
    "        modified_entry['table']['rows'] = entry['table']['rows']\n",
    "        modified_entry['table']['types'] = entry['table']['types']\n",
    "        filtered_set.append(modified_entry)"
   ]
  },
  {
   "cell_type": "markdown",
   "id": "ffdb5538",
   "metadata": {},
   "source": [
    "About 500 rows is the recommended minimum number for fine-tuning, so we'll same 500 rows from our dataset."
   ]
  },
  {
   "cell_type": "code",
   "execution_count": null,
   "id": "90c12ed7",
   "metadata": {},
   "outputs": [],
   "source": [
    "import random\n",
    "\n",
    "tuning_set = random.sample(filtered_set, 500)"
   ]
  },
  {
   "cell_type": "markdown",
   "id": "f4b205c1",
   "metadata": {},
   "source": [
    "# Fine tuning GPT-3.5 on OpenAI\n",
    "\n",
    "First, we'll create and upload a file for our fine tuning rows, and fine tune the model. The file processing may take a few minutes, and the fine tuning may take a few hours."
   ]
  },
  {
   "cell_type": "code",
   "execution_count": null,
   "id": "c7aaeff9",
   "metadata": {},
   "outputs": [],
   "source": [
    "import json\n",
    "\n",
    "gpt_fine_tuning_rows = []\n",
    "for entry in tuning_set:\n",
    "    current_row = {'messages': [\n",
    "        {\"role\": \"system\", \"content\": \"You are a text-to-SQL helper. \" + \\\n",
    "                                      \"Given the following table, produce \" + \\\n",
    "                                      \"valid SQL to answer the user question:\" + \\\n",
    "                                      str(entry['table'])},\n",
    "        {\"role\": \"user\", \"content\": entry['question']},\n",
    "        {\"role\": \"assistant\", \"content\": entry['sql']},\n",
    "    ]}\n",
    "    gpt_fine_tuning_rows.append(current_row)"
   ]
  },
  {
   "cell_type": "code",
   "execution_count": null,
   "id": "dafc3a44",
   "metadata": {},
   "outputs": [],
   "source": [
    "import json\n",
    "for row in gpt_fine_tuning_rows:\n",
    "    with open('gpt_fine_tuning_rows.jsonl', 'a') as f:\n",
    "        f.write(json.dumps(row) + '\\n')"
   ]
  },
  {
   "cell_type": "code",
   "execution_count": null,
   "id": "2b1c6ce5",
   "metadata": {},
   "outputs": [],
   "source": [
    "import openai\n",
    "import os\n",
    "\n",
    "openai.File.create(\n",
    "  file=open(\"gpt_fine_tuning_rows.jsonl\", \"rb\"),\n",
    "  purpose='fine-tune'\n",
    ")\n"
   ]
  },
  {
   "cell_type": "code",
   "execution_count": null,
   "id": "d83284a0",
   "metadata": {},
   "outputs": [],
   "source": [
    "openai.FineTuningJob.create(training_file=\"YOUR_FILE_NAME_HERE\", model=\"gpt-3.5-turbo\")"
   ]
  },
  {
   "cell_type": "code",
   "execution_count": null,
   "id": "071629c1",
   "metadata": {
    "scrolled": true
   },
   "outputs": [],
   "source": [
    "import openai\n",
    "openai.FineTuningJob.list(limit=10)"
   ]
  },
  {
   "cell_type": "markdown",
   "id": "0cee1a7c",
   "metadata": {},
   "source": [
    "## Compare fine tuned model to base model\n",
    "\n",
    "Once the fine tuning job finishes, we can compare the fine tuned model to the base model in the same experiment, as seen below."
   ]
  },
  {
   "cell_type": "code",
   "execution_count": 4,
   "id": "9685fc1c",
   "metadata": {},
   "outputs": [
    {
     "name": "stderr",
     "output_type": "stream",
     "text": [
      "100%|█████████████████████████████████████████████████████████████████████████████████████████████████████████████████████████████████████████████████████████| 15878/15878 [00:03<00:00, 4170.29it/s]\n"
     ]
    }
   ],
   "source": [
    "from tqdm import tqdm\n",
    "\n",
    "filtered_test_set = []\n",
    "\n",
    "for entry in tqdm(dataset['test']):\n",
    "    if entry['phase'] == 1:\n",
    "        filtered_test_set.append(entry)"
   ]
  },
  {
   "cell_type": "code",
   "execution_count": 5,
   "id": "ea08d3e3",
   "metadata": {},
   "outputs": [],
   "source": [
    "models = [\"gpt-3.5-turbo\", \"ft:gpt-3.5-turbo-0613:YOUR_ORG_HERE::YOUR_ID\"] \n",
    "messages = [\n",
    "    [\n",
    "        {\"role\": \"system\", \"content\": \"You are a text-to-SQL helper. \" + \\\n",
    "                                      \"Given the following table, produce \" + \\\n",
    "                                      \"valid SQL to answer the user question:\" + \\\n",
    "                                      str(filtered_test_set[0]['table'])},\n",
    "        {\"role\": \"user\", \"content\": filtered_test_set[0]['question']},\n",
    "    ]\n",
    "]\n",
    "temperatures = [0.0]\n",
    "# You can add more parameters that you'd like to test here.\n",
    "\n",
    "experiment = OpenAIChatExperiment(models, messages, temperature=temperatures)"
   ]
  },
  {
   "cell_type": "code",
   "execution_count": 6,
   "id": "df194340",
   "metadata": {},
   "outputs": [],
   "source": [
    "experiment.run()"
   ]
  },
  {
   "cell_type": "code",
   "execution_count": 7,
   "id": "c6834b15",
   "metadata": {},
   "outputs": [
    {
     "data": {
      "text/html": [
       "<div>\n",
       "<style scoped>\n",
       "    .dataframe tbody tr th:only-of-type {\n",
       "        vertical-align: middle;\n",
       "    }\n",
       "\n",
       "    .dataframe tbody tr th {\n",
       "        vertical-align: top;\n",
       "    }\n",
       "\n",
       "    .dataframe thead th {\n",
       "        text-align: right;\n",
       "    }\n",
       "</style>\n",
       "<table border=\"1\" class=\"dataframe\">\n",
       "  <thead>\n",
       "    <tr style=\"text-align: right;\">\n",
       "      <th></th>\n",
       "      <th>model</th>\n",
       "      <th>messages</th>\n",
       "      <th>response</th>\n",
       "      <th>latency</th>\n",
       "    </tr>\n",
       "  </thead>\n",
       "  <tbody>\n",
       "    <tr>\n",
       "      <th>0</th>\n",
       "      <td>gpt-3.5-turbo</td>\n",
       "      <td>[{'role': 'system', 'content': 'You are a text-to-SQL helper. Given the following table, produce valid SQL to answer the user question:{'header': ['Player', 'No.', 'Nationality', 'Position', 'Years in Toronto', 'School/Club Team'], 'page_title': 'Toronto Raptors all-time roster', 'page_id': '', 'types': ['text', 'text', 'text', 'text', 'text', 'text'], 'id': '1-10015132-16', 'section_title': 'R', 'caption': 'R', 'rows': [['Aleksandar Radojević', '25', 'Serbia', 'Center', '1999-2000', 'Barton CC (KS)'], ['Shawn Respert', '31', 'United States', 'Guard', '1997-98', 'Michigan State'], ['Quentin Richardson', 'N/A', 'United States', 'Forward', '2013-present', 'DePaul'], ['Alvin Robertson', '7, 21', 'United States', 'Guard', '1995-96', 'Arkansas'], ['Carlos Rogers', '33, 34', 'United States', 'Forward-Center', '1995-98', 'Tennessee State'], ['Roy Rogers', '9', 'United States', 'Forward', '1998', 'Alabama'], ['Jalen Rose', '5', 'United States', 'Guard-Forward', '2003-06', 'Michigan'], ['Terrence Ross', '31', 'United States', 'Guard', '2012-present', 'Washington']], 'name': 'table_10015132_16'}'}, {'role': 'user', 'content': 'What is terrence ross' nationality'}]</td>\n",
       "      <td>SELECT Nationality\\nFROM table_10015132_16\\nWHERE Player = 'Terrence Ross'</td>\n",
       "      <td>1.120881</td>\n",
       "    </tr>\n",
       "    <tr>\n",
       "      <th>1</th>\n",
       "      <td>ft:gpt-3.5-turbo-0613:hegel-ai::7ximyJEn</td>\n",
       "      <td>[{'role': 'system', 'content': 'You are a text-to-SQL helper. Given the following table, produce valid SQL to answer the user question:{'header': ['Player', 'No.', 'Nationality', 'Position', 'Years in Toronto', 'School/Club Team'], 'page_title': 'Toronto Raptors all-time roster', 'page_id': '', 'types': ['text', 'text', 'text', 'text', 'text', 'text'], 'id': '1-10015132-16', 'section_title': 'R', 'caption': 'R', 'rows': [['Aleksandar Radojević', '25', 'Serbia', 'Center', '1999-2000', 'Barton CC (KS)'], ['Shawn Respert', '31', 'United States', 'Guard', '1997-98', 'Michigan State'], ['Quentin Richardson', 'N/A', 'United States', 'Forward', '2013-present', 'DePaul'], ['Alvin Robertson', '7, 21', 'United States', 'Guard', '1995-96', 'Arkansas'], ['Carlos Rogers', '33, 34', 'United States', 'Forward-Center', '1995-98', 'Tennessee State'], ['Roy Rogers', '9', 'United States', 'Forward', '1998', 'Alabama'], ['Jalen Rose', '5', 'United States', 'Guard-Forward', '2003-06', 'Michigan'], ['Terrence Ross', '31', 'United States', 'Guard', '2012-present', 'Washington']], 'name': 'table_10015132_16'}'}, {'role': 'user', 'content': 'What is terrence ross' nationality'}]</td>\n",
       "      <td>SELECT Nationality FROM table_10015132_16 WHERE Player = Terrence Ross</td>\n",
       "      <td>1.149571</td>\n",
       "    </tr>\n",
       "  </tbody>\n",
       "</table>\n",
       "</div>"
      ],
      "text/plain": [
       "                                      model  \\\n",
       "0  gpt-3.5-turbo                              \n",
       "1  ft:gpt-3.5-turbo-0613:hegel-ai::7ximyJEn   \n",
       "\n",
       "                                                                                                                                                                                                                                                                                                                                                                                                                                                                                                                                                                                                                                                                                                                                                                                                                                                                                                                                                                                                                                                                                                                                                                                                               messages  \\\n",
       "0  [{'role': 'system', 'content': 'You are a text-to-SQL helper. Given the following table, produce valid SQL to answer the user question:{'header': ['Player', 'No.', 'Nationality', 'Position', 'Years in Toronto', 'School/Club Team'], 'page_title': 'Toronto Raptors all-time roster', 'page_id': '', 'types': ['text', 'text', 'text', 'text', 'text', 'text'], 'id': '1-10015132-16', 'section_title': 'R', 'caption': 'R', 'rows': [['Aleksandar Radojević', '25', 'Serbia', 'Center', '1999-2000', 'Barton CC (KS)'], ['Shawn Respert', '31', 'United States', 'Guard', '1997-98', 'Michigan State'], ['Quentin Richardson', 'N/A', 'United States', 'Forward', '2013-present', 'DePaul'], ['Alvin Robertson', '7, 21', 'United States', 'Guard', '1995-96', 'Arkansas'], ['Carlos Rogers', '33, 34', 'United States', 'Forward-Center', '1995-98', 'Tennessee State'], ['Roy Rogers', '9', 'United States', 'Forward', '1998', 'Alabama'], ['Jalen Rose', '5', 'United States', 'Guard-Forward', '2003-06', 'Michigan'], ['Terrence Ross', '31', 'United States', 'Guard', '2012-present', 'Washington']], 'name': 'table_10015132_16'}'}, {'role': 'user', 'content': 'What is terrence ross' nationality'}]   \n",
       "1  [{'role': 'system', 'content': 'You are a text-to-SQL helper. Given the following table, produce valid SQL to answer the user question:{'header': ['Player', 'No.', 'Nationality', 'Position', 'Years in Toronto', 'School/Club Team'], 'page_title': 'Toronto Raptors all-time roster', 'page_id': '', 'types': ['text', 'text', 'text', 'text', 'text', 'text'], 'id': '1-10015132-16', 'section_title': 'R', 'caption': 'R', 'rows': [['Aleksandar Radojević', '25', 'Serbia', 'Center', '1999-2000', 'Barton CC (KS)'], ['Shawn Respert', '31', 'United States', 'Guard', '1997-98', 'Michigan State'], ['Quentin Richardson', 'N/A', 'United States', 'Forward', '2013-present', 'DePaul'], ['Alvin Robertson', '7, 21', 'United States', 'Guard', '1995-96', 'Arkansas'], ['Carlos Rogers', '33, 34', 'United States', 'Forward-Center', '1995-98', 'Tennessee State'], ['Roy Rogers', '9', 'United States', 'Forward', '1998', 'Alabama'], ['Jalen Rose', '5', 'United States', 'Guard-Forward', '2003-06', 'Michigan'], ['Terrence Ross', '31', 'United States', 'Guard', '2012-present', 'Washington']], 'name': 'table_10015132_16'}'}, {'role': 'user', 'content': 'What is terrence ross' nationality'}]   \n",
       "\n",
       "                                                                     response  \\\n",
       "0  SELECT Nationality\\nFROM table_10015132_16\\nWHERE Player = 'Terrence Ross'   \n",
       "1  SELECT Nationality FROM table_10015132_16 WHERE Player = Terrence Ross       \n",
       "\n",
       "    latency  \n",
       "0  1.120881  \n",
       "1  1.149571  "
      ]
     },
     "metadata": {},
     "output_type": "display_data"
    }
   ],
   "source": [
    "experiment.visualize()"
   ]
  },
  {
   "cell_type": "code",
   "execution_count": 8,
   "id": "f8f9d237",
   "metadata": {},
   "outputs": [
    {
     "data": {
      "text/html": [
       "<div>\n",
       "<style scoped>\n",
       "    .dataframe tbody tr th:only-of-type {\n",
       "        vertical-align: middle;\n",
       "    }\n",
       "\n",
       "    .dataframe tbody tr th {\n",
       "        vertical-align: top;\n",
       "    }\n",
       "\n",
       "    .dataframe thead th {\n",
       "        text-align: right;\n",
       "    }\n",
       "</style>\n",
       "<table border=\"1\" class=\"dataframe\">\n",
       "  <thead>\n",
       "    <tr style=\"text-align: right;\">\n",
       "      <th></th>\n",
       "      <th>model</th>\n",
       "      <th>messages</th>\n",
       "      <th>response</th>\n",
       "      <th>latency</th>\n",
       "      <th>correctness</th>\n",
       "    </tr>\n",
       "  </thead>\n",
       "  <tbody>\n",
       "    <tr>\n",
       "      <th>0</th>\n",
       "      <td>gpt-3.5-turbo</td>\n",
       "      <td>[{'role': 'system', 'content': 'You are a text-to-SQL helper. Given the following table, produce valid SQL to answer the user question:{'header': ['Player', 'No.', 'Nationality', 'Position', 'Years in Toronto', 'School/Club Team'], 'page_title': 'Toronto Raptors all-time roster', 'page_id': '', 'types': ['text', 'text', 'text', 'text', 'text', 'text'], 'id': '1-10015132-16', 'section_title': 'R', 'caption': 'R', 'rows': [['Aleksandar Radojević', '25', 'Serbia', 'Center', '1999-2000', 'Barton CC (KS)'], ['Shawn Respert', '31', 'United States', 'Guard', '1997-98', 'Michigan State'], ['Quentin Richardson', 'N/A', 'United States', 'Forward', '2013-present', 'DePaul'], ['Alvin Robertson', '7, 21', 'United States', 'Guard', '1995-96', 'Arkansas'], ['Carlos Rogers', '33, 34', 'United States', 'Forward-Center', '1995-98', 'Tennessee State'], ['Roy Rogers', '9', 'United States', 'Forward', '1998', 'Alabama'], ['Jalen Rose', '5', 'United States', 'Guard-Forward', '2003-06', 'Michigan'], ['Terrence Ross', '31', 'United States', 'Guard', '2012-present', 'Washington']], 'name': 'table_10015132_16'}'}, {'role': 'user', 'content': 'What is terrence ross' nationality'}]</td>\n",
       "      <td>SELECT Nationality\\nFROM table_10015132_16\\nWHERE Player = 'Terrence Ross'</td>\n",
       "      <td>1.120881</td>\n",
       "      <td>0.953111</td>\n",
       "    </tr>\n",
       "    <tr>\n",
       "      <th>1</th>\n",
       "      <td>ft:gpt-3.5-turbo-0613:hegel-ai::7ximyJEn</td>\n",
       "      <td>[{'role': 'system', 'content': 'You are a text-to-SQL helper. Given the following table, produce valid SQL to answer the user question:{'header': ['Player', 'No.', 'Nationality', 'Position', 'Years in Toronto', 'School/Club Team'], 'page_title': 'Toronto Raptors all-time roster', 'page_id': '', 'types': ['text', 'text', 'text', 'text', 'text', 'text'], 'id': '1-10015132-16', 'section_title': 'R', 'caption': 'R', 'rows': [['Aleksandar Radojević', '25', 'Serbia', 'Center', '1999-2000', 'Barton CC (KS)'], ['Shawn Respert', '31', 'United States', 'Guard', '1997-98', 'Michigan State'], ['Quentin Richardson', 'N/A', 'United States', 'Forward', '2013-present', 'DePaul'], ['Alvin Robertson', '7, 21', 'United States', 'Guard', '1995-96', 'Arkansas'], ['Carlos Rogers', '33, 34', 'United States', 'Forward-Center', '1995-98', 'Tennessee State'], ['Roy Rogers', '9', 'United States', 'Forward', '1998', 'Alabama'], ['Jalen Rose', '5', 'United States', 'Guard-Forward', '2003-06', 'Michigan'], ['Terrence Ross', '31', 'United States', 'Guard', '2012-present', 'Washington']], 'name': 'table_10015132_16'}'}, {'role': 'user', 'content': 'What is terrence ross' nationality'}]</td>\n",
       "      <td>SELECT Nationality FROM table_10015132_16 WHERE Player = Terrence Ross</td>\n",
       "      <td>1.149571</td>\n",
       "      <td>0.952774</td>\n",
       "    </tr>\n",
       "  </tbody>\n",
       "</table>\n",
       "</div>"
      ],
      "text/plain": [
       "                                      model  \\\n",
       "0  gpt-3.5-turbo                              \n",
       "1  ft:gpt-3.5-turbo-0613:hegel-ai::7ximyJEn   \n",
       "\n",
       "                                                                                                                                                                                                                                                                                                                                                                                                                                                                                                                                                                                                                                                                                                                                                                                                                                                                                                                                                                                                                                                                                                                                                                                                               messages  \\\n",
       "0  [{'role': 'system', 'content': 'You are a text-to-SQL helper. Given the following table, produce valid SQL to answer the user question:{'header': ['Player', 'No.', 'Nationality', 'Position', 'Years in Toronto', 'School/Club Team'], 'page_title': 'Toronto Raptors all-time roster', 'page_id': '', 'types': ['text', 'text', 'text', 'text', 'text', 'text'], 'id': '1-10015132-16', 'section_title': 'R', 'caption': 'R', 'rows': [['Aleksandar Radojević', '25', 'Serbia', 'Center', '1999-2000', 'Barton CC (KS)'], ['Shawn Respert', '31', 'United States', 'Guard', '1997-98', 'Michigan State'], ['Quentin Richardson', 'N/A', 'United States', 'Forward', '2013-present', 'DePaul'], ['Alvin Robertson', '7, 21', 'United States', 'Guard', '1995-96', 'Arkansas'], ['Carlos Rogers', '33, 34', 'United States', 'Forward-Center', '1995-98', 'Tennessee State'], ['Roy Rogers', '9', 'United States', 'Forward', '1998', 'Alabama'], ['Jalen Rose', '5', 'United States', 'Guard-Forward', '2003-06', 'Michigan'], ['Terrence Ross', '31', 'United States', 'Guard', '2012-present', 'Washington']], 'name': 'table_10015132_16'}'}, {'role': 'user', 'content': 'What is terrence ross' nationality'}]   \n",
       "1  [{'role': 'system', 'content': 'You are a text-to-SQL helper. Given the following table, produce valid SQL to answer the user question:{'header': ['Player', 'No.', 'Nationality', 'Position', 'Years in Toronto', 'School/Club Team'], 'page_title': 'Toronto Raptors all-time roster', 'page_id': '', 'types': ['text', 'text', 'text', 'text', 'text', 'text'], 'id': '1-10015132-16', 'section_title': 'R', 'caption': 'R', 'rows': [['Aleksandar Radojević', '25', 'Serbia', 'Center', '1999-2000', 'Barton CC (KS)'], ['Shawn Respert', '31', 'United States', 'Guard', '1997-98', 'Michigan State'], ['Quentin Richardson', 'N/A', 'United States', 'Forward', '2013-present', 'DePaul'], ['Alvin Robertson', '7, 21', 'United States', 'Guard', '1995-96', 'Arkansas'], ['Carlos Rogers', '33, 34', 'United States', 'Forward-Center', '1995-98', 'Tennessee State'], ['Roy Rogers', '9', 'United States', 'Forward', '1998', 'Alabama'], ['Jalen Rose', '5', 'United States', 'Guard-Forward', '2003-06', 'Michigan'], ['Terrence Ross', '31', 'United States', 'Guard', '2012-present', 'Washington']], 'name': 'table_10015132_16'}'}, {'role': 'user', 'content': 'What is terrence ross' nationality'}]   \n",
       "\n",
       "                                                                     response  \\\n",
       "0  SELECT Nationality\\nFROM table_10015132_16\\nWHERE Player = 'Terrence Ross'   \n",
       "1  SELECT Nationality FROM table_10015132_16 WHERE Player = Terrence Ross       \n",
       "\n",
       "    latency  correctness  \n",
       "0  1.120881  0.953111     \n",
       "1  1.149571  0.952774     "
      ]
     },
     "metadata": {},
     "output_type": "display_data"
    }
   ],
   "source": [
    "from prompttools.utils import similarity\n",
    "experiment.evaluate(\"correctness\", similarity.semantic_similarity, expected=[filtered_test_set[0]['sql']['human_readable']] * 2)\n",
    "experiment.visualize()"
   ]
  },
  {
   "cell_type": "markdown",
   "id": "8661eb8d",
   "metadata": {},
   "source": [
    "For our example, both the base model and fine tuned model do a good job at returning only SQL, but the tuned model is marginally closer to the correct answer and has better syntax."
   ]
  },
  {
   "cell_type": "markdown",
   "id": "50edd181",
   "metadata": {},
   "source": [
    "# Replicate: Llama 2 70 B\n",
    "\n",
    "Since Llama 2 has a smaller context window, will restict the size of the rows we use for fine-tuning from the original set."
   ]
  },
  {
   "cell_type": "code",
   "execution_count": null,
   "id": "ce96473c",
   "metadata": {},
   "outputs": [],
   "source": [
    "filtered_tuning_set = [entry for entry in tuning_set if len(str(entry['table'])) < 2000]"
   ]
  },
  {
   "cell_type": "code",
   "execution_count": null,
   "id": "4eadc98f",
   "metadata": {},
   "outputs": [],
   "source": [
    "import json\n",
    "\n",
    "replicate_fine_tuning_rows = []\n",
    "for entry in filtered_tuning_set:\n",
    "    current_row = {'prompt': entry['question'] + \\\n",
    "                             \"\\nGiven the following table, produce \" + \\\n",
    "                             \"valid SQL to answer the question:\" + \\\n",
    "                              str(entry['table']) ,\n",
    "                   'completion': entry['sql']}\n",
    "    replicate_fine_tuning_rows.append(current_row)\n"
   ]
  },
  {
   "cell_type": "code",
   "execution_count": null,
   "id": "99be8ebb",
   "metadata": {},
   "outputs": [],
   "source": [
    "import json\n",
    "for row in replicate_fine_tuning_rows:\n",
    "    with open('replicate_fine_tuning_rows.jsonl', 'a') as f:\n",
    "        f.write(json.dumps(row) + '\\n')"
   ]
  },
  {
   "cell_type": "markdown",
   "id": "7425c7fd",
   "metadata": {},
   "source": [
    "## Run fine tuning\n",
    "\n",
    "For replicate, you will need to upload your fine-tuning rows to an accessible URL. For our example, we uploaded the file to an S3 bucket and used a signed URL to provide access.\n",
    "\n",
    "The fine tuning may take a few hours."
   ]
  },
  {
   "cell_type": "code",
   "execution_count": 23,
   "id": "89554c1e",
   "metadata": {},
   "outputs": [],
   "source": [
    "import replicate\n",
    "\n",
    "os.environ[\"REPLICATE_API_TOKEN\"] = \"\"\n",
    "\n",
    "base_model = \"meta/llama-2-70b-chat:35042c9a33ac8fd5e29e27fb3197f33aa483f72c2ce3b0b9d201155c7fd2a287\""
   ]
  },
  {
   "cell_type": "code",
   "execution_count": null,
   "id": "eb1a3e49",
   "metadata": {},
   "outputs": [],
   "source": [
    "training = replicate.trainings.create(\n",
    "  version=base_model,\n",
    "  input={\n",
    "    \"train_data\": \"S3-URL-HERE\",\n",
    "  },\n",
    "  destination=\"YOUR-REPLICATE-ID/prompttools-example\"\n",
    ")"
   ]
  },
  {
   "cell_type": "markdown",
   "id": "42af9b1b",
   "metadata": {},
   "source": [
    "Wait for the fine tuning job to finish, then test that the model works."
   ]
  },
  {
   "cell_type": "code",
   "execution_count": null,
   "id": "e7ef8b97",
   "metadata": {},
   "outputs": [],
   "source": [
    "training.reload()\n",
    "if training.status == \"succeeded\":\n",
    "    print(training.output)"
   ]
  },
  {
   "cell_type": "code",
   "execution_count": null,
   "id": "d983af5b",
   "metadata": {
    "scrolled": true
   },
   "outputs": [],
   "source": [
    "output = replicate.run(\n",
    "  training.output[\"version\"],\n",
    "  input={\"prompt\": filtered_tuning_set[0]['question'] + \\\n",
    "                   \"\\nGiven the following table, produce \" + \\\n",
    "                   \"valid SQL to answer the question:\" + \\\n",
    "                    str(filtered_tuning_set[0]['table'])}\n",
    ")\n",
    "for s in output:\n",
    "    print(s, end=\"\", flush=True)"
   ]
  },
  {
   "cell_type": "markdown",
   "id": "a9a1da83",
   "metadata": {},
   "source": [
    "## Compared tuned Llama model to base model\n",
    "\n",
    "Now, we can set up a replicate experiment between the fine tuned and base Llama models."
   ]
  },
  {
   "cell_type": "code",
   "execution_count": 20,
   "id": "9dbe7781",
   "metadata": {},
   "outputs": [],
   "source": [
    "from prompttools.experiment import ReplicateExperiment\n",
    "llama = \"YOUR-REPLICATE-ID/prompttools-example:VERSION\"\n",
    "models = [llama, base_model]\n",
    "input_kwargs = {\"prompt\": [filtered_test_set[0]['question'] + \\\n",
    "                           \"\\nGiven the following table, produce \" + \\\n",
    "                           \"valid SQL to answer the question:\" + \\\n",
    "                            str(filtered_test_set[0]['table'])]}\n",
    "model_specific_kwargs = {llama: {}, base_model: {}}\n",
    "\n",
    "replicate_experiment = ReplicateExperiment(models, input_kwargs, model_specific_kwargs)"
   ]
  },
  {
   "cell_type": "code",
   "execution_count": 21,
   "id": "d3d1ec3f",
   "metadata": {},
   "outputs": [
    {
     "data": {
      "text/html": [
       "<div>\n",
       "<style scoped>\n",
       "    .dataframe tbody tr th:only-of-type {\n",
       "        vertical-align: middle;\n",
       "    }\n",
       "\n",
       "    .dataframe tbody tr th {\n",
       "        vertical-align: top;\n",
       "    }\n",
       "\n",
       "    .dataframe thead th {\n",
       "        text-align: right;\n",
       "    }\n",
       "</style>\n",
       "<table border=\"1\" class=\"dataframe\">\n",
       "  <thead>\n",
       "    <tr style=\"text-align: right;\">\n",
       "      <th></th>\n",
       "      <th>model_version</th>\n",
       "      <th>prompt</th>\n",
       "      <th>response</th>\n",
       "      <th>latency</th>\n",
       "    </tr>\n",
       "  </thead>\n",
       "  <tbody>\n",
       "    <tr>\n",
       "      <th>0</th>\n",
       "      <td>hegelai/llama-test-large:bb9b696ca41ac10be77c786fdad0f7c17ed80a67dc14879ca66ec02f4d5e8caf</td>\n",
       "      <td>What is terrence ross' nationality\\nGiven the following table, produce valid SQL to answer the question:{'header': ['Player', 'No.', 'Nationality', 'Position', 'Years in Toronto', 'School/Club Team'], 'page_title': 'Toronto Raptors all-time roster', 'page_id': '', 'types': ['text', 'text', 'text', 'text', 'text', 'text'], 'id': '1-10015132-16', 'section_title': 'R', 'caption': 'R', 'rows': [['Aleksandar Radojević', '25', 'Serbia', 'Center', '1999-2000', 'Barton CC (KS)'], ['Shawn Respert', '31', 'United States', 'Guard', '1997-98', 'Michigan State'], ['Quentin Richardson', 'N/A', 'United States', 'Forward', '2013-present', 'DePaul'], ['Alvin Robertson', '7, 21', 'United States', 'Guard', '1995-96', 'Arkansas'], ['Carlos Rogers', '33, 34', 'United States', 'Forward-Center', '1995-98', 'Tennessee State'], ['Roy Rogers', '9', 'United States', 'Forward', '1998', 'Alabama'], ['Jalen Rose', '5', 'United States', 'Guard-Forward', '2003-06', 'Michigan'], ['Terrence Ross', '31', 'United States', 'Guard', '2012-present', 'Washington']], 'name': 'table_10015132_16'}</td>\n",
       "      <td>SELECT Nationality FROM table_ SELECT Nationality FROM table_1001513 SELECT Nationality FROM table_10015132_16 WHERE Player = Nationality FROM table_10015132_16 WHERE Player = 'Terrence Ross'; Nationality FROM table_10015132_16 WHERE Player = 'Terrence Ross';</td>\n",
       "      <td>0.291232</td>\n",
       "    </tr>\n",
       "    <tr>\n",
       "      <th>1</th>\n",
       "      <td>meta/llama-2-70b-chat:35042c9a33ac8fd5e29e27fb3197f33aa483f72c2ce3b0b9d201155c7fd2a287</td>\n",
       "      <td>What is terrence ross' nationality\\nGiven the following table, produce valid SQL to answer the question:{'header': ['Player', 'No.', 'Nationality', 'Position', 'Years in Toronto', 'School/Club Team'], 'page_title': 'Toronto Raptors all-time roster', 'page_id': '', 'types': ['text', 'text', 'text', 'text', 'text', 'text'], 'id': '1-10015132-16', 'section_title': 'R', 'caption': 'R', 'rows': [['Aleksandar Radojević', '25', 'Serbia', 'Center', '1999-2000', 'Barton CC (KS)'], ['Shawn Respert', '31', 'United States', 'Guard', '1997-98', 'Michigan State'], ['Quentin Richardson', 'N/A', 'United States', 'Forward', '2013-present', 'DePaul'], ['Alvin Robertson', '7, 21', 'United States', 'Guard', '1995-96', 'Arkansas'], ['Carlos Rogers', '33, 34', 'United States', 'Forward-Center', '1995-98', 'Tennessee State'], ['Roy Rogers', '9', 'United States', 'Forward', '1998', 'Alabama'], ['Jalen Rose', '5', 'United States', 'Guard-Forward', '2003-06', 'Michigan'], ['Terrence Ross', '31', 'United States', 'Guard', '2012-present', 'Washington']], 'name': 'table_10015132_16'}</td>\n",
       "      <td>The nationality of Terrence Ross is United States.</td>\n",
       "      <td>0.302811</td>\n",
       "    </tr>\n",
       "  </tbody>\n",
       "</table>\n",
       "</div>"
      ],
      "text/plain": [
       "                                                                               model_version  \\\n",
       "0  hegelai/llama-test-large:bb9b696ca41ac10be77c786fdad0f7c17ed80a67dc14879ca66ec02f4d5e8caf   \n",
       "1  meta/llama-2-70b-chat:35042c9a33ac8fd5e29e27fb3197f33aa483f72c2ce3b0b9d201155c7fd2a287      \n",
       "\n",
       "                                                                                                                                                                                                                                                                                                                                                                                                                                                                                                                                                                                                                                                                                                                                                                                                                                                                                                                                                                                                                                                                                                            prompt  \\\n",
       "0  What is terrence ross' nationality\\nGiven the following table, produce valid SQL to answer the question:{'header': ['Player', 'No.', 'Nationality', 'Position', 'Years in Toronto', 'School/Club Team'], 'page_title': 'Toronto Raptors all-time roster', 'page_id': '', 'types': ['text', 'text', 'text', 'text', 'text', 'text'], 'id': '1-10015132-16', 'section_title': 'R', 'caption': 'R', 'rows': [['Aleksandar Radojević', '25', 'Serbia', 'Center', '1999-2000', 'Barton CC (KS)'], ['Shawn Respert', '31', 'United States', 'Guard', '1997-98', 'Michigan State'], ['Quentin Richardson', 'N/A', 'United States', 'Forward', '2013-present', 'DePaul'], ['Alvin Robertson', '7, 21', 'United States', 'Guard', '1995-96', 'Arkansas'], ['Carlos Rogers', '33, 34', 'United States', 'Forward-Center', '1995-98', 'Tennessee State'], ['Roy Rogers', '9', 'United States', 'Forward', '1998', 'Alabama'], ['Jalen Rose', '5', 'United States', 'Guard-Forward', '2003-06', 'Michigan'], ['Terrence Ross', '31', 'United States', 'Guard', '2012-present', 'Washington']], 'name': 'table_10015132_16'}   \n",
       "1  What is terrence ross' nationality\\nGiven the following table, produce valid SQL to answer the question:{'header': ['Player', 'No.', 'Nationality', 'Position', 'Years in Toronto', 'School/Club Team'], 'page_title': 'Toronto Raptors all-time roster', 'page_id': '', 'types': ['text', 'text', 'text', 'text', 'text', 'text'], 'id': '1-10015132-16', 'section_title': 'R', 'caption': 'R', 'rows': [['Aleksandar Radojević', '25', 'Serbia', 'Center', '1999-2000', 'Barton CC (KS)'], ['Shawn Respert', '31', 'United States', 'Guard', '1997-98', 'Michigan State'], ['Quentin Richardson', 'N/A', 'United States', 'Forward', '2013-present', 'DePaul'], ['Alvin Robertson', '7, 21', 'United States', 'Guard', '1995-96', 'Arkansas'], ['Carlos Rogers', '33, 34', 'United States', 'Forward-Center', '1995-98', 'Tennessee State'], ['Roy Rogers', '9', 'United States', 'Forward', '1998', 'Alabama'], ['Jalen Rose', '5', 'United States', 'Guard-Forward', '2003-06', 'Michigan'], ['Terrence Ross', '31', 'United States', 'Guard', '2012-present', 'Washington']], 'name': 'table_10015132_16'}   \n",
       "\n",
       "                                                                                                                                                                                                                                                               response  \\\n",
       "0   SELECT Nationality FROM table_ SELECT Nationality FROM table_1001513 SELECT Nationality FROM table_10015132_16 WHERE Player = Nationality FROM table_10015132_16 WHERE Player = 'Terrence Ross'; Nationality FROM table_10015132_16 WHERE Player = 'Terrence Ross';   \n",
       "1   The nationality of Terrence Ross is United States.                                                                                                                                                                                                                    \n",
       "\n",
       "    latency  \n",
       "0  0.291232  \n",
       "1  0.302811  "
      ]
     },
     "metadata": {},
     "output_type": "display_data"
    }
   ],
   "source": [
    "replicate_experiment.run()\n",
    "replicate_experiment.visualize()"
   ]
  },
  {
   "cell_type": "code",
   "execution_count": 22,
   "id": "85b46291",
   "metadata": {},
   "outputs": [
    {
     "data": {
      "text/html": [
       "<div>\n",
       "<style scoped>\n",
       "    .dataframe tbody tr th:only-of-type {\n",
       "        vertical-align: middle;\n",
       "    }\n",
       "\n",
       "    .dataframe tbody tr th {\n",
       "        vertical-align: top;\n",
       "    }\n",
       "\n",
       "    .dataframe thead th {\n",
       "        text-align: right;\n",
       "    }\n",
       "</style>\n",
       "<table border=\"1\" class=\"dataframe\">\n",
       "  <thead>\n",
       "    <tr style=\"text-align: right;\">\n",
       "      <th></th>\n",
       "      <th>model_version</th>\n",
       "      <th>prompt</th>\n",
       "      <th>response</th>\n",
       "      <th>latency</th>\n",
       "      <th>correctness</th>\n",
       "    </tr>\n",
       "  </thead>\n",
       "  <tbody>\n",
       "    <tr>\n",
       "      <th>0</th>\n",
       "      <td>hegelai/llama-test-large:bb9b696ca41ac10be77c786fdad0f7c17ed80a67dc14879ca66ec02f4d5e8caf</td>\n",
       "      <td>What is terrence ross' nationality\\nGiven the following table, produce valid SQL to answer the question:{'header': ['Player', 'No.', 'Nationality', 'Position', 'Years in Toronto', 'School/Club Team'], 'page_title': 'Toronto Raptors all-time roster', 'page_id': '', 'types': ['text', 'text', 'text', 'text', 'text', 'text'], 'id': '1-10015132-16', 'section_title': 'R', 'caption': 'R', 'rows': [['Aleksandar Radojević', '25', 'Serbia', 'Center', '1999-2000', 'Barton CC (KS)'], ['Shawn Respert', '31', 'United States', 'Guard', '1997-98', 'Michigan State'], ['Quentin Richardson', 'N/A', 'United States', 'Forward', '2013-present', 'DePaul'], ['Alvin Robertson', '7, 21', 'United States', 'Guard', '1995-96', 'Arkansas'], ['Carlos Rogers', '33, 34', 'United States', 'Forward-Center', '1995-98', 'Tennessee State'], ['Roy Rogers', '9', 'United States', 'Forward', '1998', 'Alabama'], ['Jalen Rose', '5', 'United States', 'Guard-Forward', '2003-06', 'Michigan'], ['Terrence Ross', '31', 'United States', 'Guard', '2012-present', 'Washington']], 'name': 'table_10015132_16'}</td>\n",
       "      <td>SELECT Nationality FROM table_ SELECT Nationality FROM table_1001513 SELECT Nationality FROM table_10015132_16 WHERE Player = Nationality FROM table_10015132_16 WHERE Player = 'Terrence Ross'; Nationality FROM table_10015132_16 WHERE Player = 'Terrence Ross';</td>\n",
       "      <td>0.291232</td>\n",
       "      <td>0.818023</td>\n",
       "    </tr>\n",
       "    <tr>\n",
       "      <th>1</th>\n",
       "      <td>meta/llama-2-70b-chat:35042c9a33ac8fd5e29e27fb3197f33aa483f72c2ce3b0b9d201155c7fd2a287</td>\n",
       "      <td>What is terrence ross' nationality\\nGiven the following table, produce valid SQL to answer the question:{'header': ['Player', 'No.', 'Nationality', 'Position', 'Years in Toronto', 'School/Club Team'], 'page_title': 'Toronto Raptors all-time roster', 'page_id': '', 'types': ['text', 'text', 'text', 'text', 'text', 'text'], 'id': '1-10015132-16', 'section_title': 'R', 'caption': 'R', 'rows': [['Aleksandar Radojević', '25', 'Serbia', 'Center', '1999-2000', 'Barton CC (KS)'], ['Shawn Respert', '31', 'United States', 'Guard', '1997-98', 'Michigan State'], ['Quentin Richardson', 'N/A', 'United States', 'Forward', '2013-present', 'DePaul'], ['Alvin Robertson', '7, 21', 'United States', 'Guard', '1995-96', 'Arkansas'], ['Carlos Rogers', '33, 34', 'United States', 'Forward-Center', '1995-98', 'Tennessee State'], ['Roy Rogers', '9', 'United States', 'Forward', '1998', 'Alabama'], ['Jalen Rose', '5', 'United States', 'Guard-Forward', '2003-06', 'Michigan'], ['Terrence Ross', '31', 'United States', 'Guard', '2012-present', 'Washington']], 'name': 'table_10015132_16'}</td>\n",
       "      <td>The nationality of Terrence Ross is United States.</td>\n",
       "      <td>0.302811</td>\n",
       "      <td>0.562899</td>\n",
       "    </tr>\n",
       "  </tbody>\n",
       "</table>\n",
       "</div>"
      ],
      "text/plain": [
       "                                                                               model_version  \\\n",
       "0  hegelai/llama-test-large:bb9b696ca41ac10be77c786fdad0f7c17ed80a67dc14879ca66ec02f4d5e8caf   \n",
       "1  meta/llama-2-70b-chat:35042c9a33ac8fd5e29e27fb3197f33aa483f72c2ce3b0b9d201155c7fd2a287      \n",
       "\n",
       "                                                                                                                                                                                                                                                                                                                                                                                                                                                                                                                                                                                                                                                                                                                                                                                                                                                                                                                                                                                                                                                                                                            prompt  \\\n",
       "0  What is terrence ross' nationality\\nGiven the following table, produce valid SQL to answer the question:{'header': ['Player', 'No.', 'Nationality', 'Position', 'Years in Toronto', 'School/Club Team'], 'page_title': 'Toronto Raptors all-time roster', 'page_id': '', 'types': ['text', 'text', 'text', 'text', 'text', 'text'], 'id': '1-10015132-16', 'section_title': 'R', 'caption': 'R', 'rows': [['Aleksandar Radojević', '25', 'Serbia', 'Center', '1999-2000', 'Barton CC (KS)'], ['Shawn Respert', '31', 'United States', 'Guard', '1997-98', 'Michigan State'], ['Quentin Richardson', 'N/A', 'United States', 'Forward', '2013-present', 'DePaul'], ['Alvin Robertson', '7, 21', 'United States', 'Guard', '1995-96', 'Arkansas'], ['Carlos Rogers', '33, 34', 'United States', 'Forward-Center', '1995-98', 'Tennessee State'], ['Roy Rogers', '9', 'United States', 'Forward', '1998', 'Alabama'], ['Jalen Rose', '5', 'United States', 'Guard-Forward', '2003-06', 'Michigan'], ['Terrence Ross', '31', 'United States', 'Guard', '2012-present', 'Washington']], 'name': 'table_10015132_16'}   \n",
       "1  What is terrence ross' nationality\\nGiven the following table, produce valid SQL to answer the question:{'header': ['Player', 'No.', 'Nationality', 'Position', 'Years in Toronto', 'School/Club Team'], 'page_title': 'Toronto Raptors all-time roster', 'page_id': '', 'types': ['text', 'text', 'text', 'text', 'text', 'text'], 'id': '1-10015132-16', 'section_title': 'R', 'caption': 'R', 'rows': [['Aleksandar Radojević', '25', 'Serbia', 'Center', '1999-2000', 'Barton CC (KS)'], ['Shawn Respert', '31', 'United States', 'Guard', '1997-98', 'Michigan State'], ['Quentin Richardson', 'N/A', 'United States', 'Forward', '2013-present', 'DePaul'], ['Alvin Robertson', '7, 21', 'United States', 'Guard', '1995-96', 'Arkansas'], ['Carlos Rogers', '33, 34', 'United States', 'Forward-Center', '1995-98', 'Tennessee State'], ['Roy Rogers', '9', 'United States', 'Forward', '1998', 'Alabama'], ['Jalen Rose', '5', 'United States', 'Guard-Forward', '2003-06', 'Michigan'], ['Terrence Ross', '31', 'United States', 'Guard', '2012-present', 'Washington']], 'name': 'table_10015132_16'}   \n",
       "\n",
       "                                                                                                                                                                                                                                                               response  \\\n",
       "0   SELECT Nationality FROM table_ SELECT Nationality FROM table_1001513 SELECT Nationality FROM table_10015132_16 WHERE Player = Nationality FROM table_10015132_16 WHERE Player = 'Terrence Ross'; Nationality FROM table_10015132_16 WHERE Player = 'Terrence Ross';   \n",
       "1   The nationality of Terrence Ross is United States.                                                                                                                                                                                                                    \n",
       "\n",
       "    latency  correctness  \n",
       "0  0.291232  0.818023     \n",
       "1  0.302811  0.562899     "
      ]
     },
     "metadata": {},
     "output_type": "display_data"
    }
   ],
   "source": [
    "replicate_experiment.evaluate(\"correctness\", similarity.semantic_similarity, expected=[filtered_test_set[0]['sql']['human_readable']] * 2)\n",
    "replicate_experiment.visualize()"
   ]
  },
  {
   "cell_type": "markdown",
   "id": "3ccb76a7",
   "metadata": {},
   "source": [
    "Our fine tuned model did significantly better than the base model at producing SQL in response to the prompt, but neither is as good as gpt-3.5 base or fine tuned."
   ]
  },
  {
   "cell_type": "markdown",
   "id": "a0a3b461",
   "metadata": {},
   "source": [
    "# Conclusion\n",
    "\n",
    "GPT-3.5 does better at producing SQL, especially when fine tuned. One advantage is the larger context window, which allows us to tune on larger SQL tables and provide more context at query time. Another advantage is the power of the underlying model, which is already quite good at the task."
   ]
  },
  {
   "cell_type": "code",
   "execution_count": null,
   "id": "587efa63",
   "metadata": {},
   "outputs": [],
   "source": []
  }
 ],
 "metadata": {
  "kernelspec": {
   "display_name": "Python 3 (ipykernel)",
   "language": "python",
   "name": "python3"
  },
  "language_info": {
   "codemirror_mode": {
    "name": "ipython",
    "version": 3
   },
   "file_extension": ".py",
   "mimetype": "text/x-python",
   "name": "python",
   "nbconvert_exporter": "python",
   "pygments_lexer": "ipython3",
   "version": "3.11.4"
  }
 },
 "nbformat": 4,
 "nbformat_minor": 5
}
