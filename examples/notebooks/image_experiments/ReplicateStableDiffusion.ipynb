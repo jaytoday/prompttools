{
 "cells": [
  {
   "cell_type": "markdown",
   "id": "0a13ddc8",
   "metadata": {},
   "source": [
    "# Replicate Stable Diffusion Example"
   ]
  },
  {
   "cell_type": "markdown",
   "id": "623f0cfe",
   "metadata": {},
   "source": [
    "## Installations"
   ]
  },
  {
   "cell_type": "code",
   "execution_count": 1,
   "id": "885dabeb",
   "metadata": {},
   "outputs": [],
   "source": [
    "# !pip install --quiet --force-reinstall prompttools"
   ]
  },
  {
   "cell_type": "markdown",
   "id": "2eac35f8",
   "metadata": {},
   "source": [
    "## Setup imports and API keys"
   ]
  },
  {
   "cell_type": "markdown",
   "id": "5edba05a",
   "metadata": {},
   "source": [
    "First, we'll need to set our API keys."
   ]
  },
  {
   "cell_type": "code",
   "execution_count": 1,
   "id": "ed4e635e",
   "metadata": {},
   "outputs": [],
   "source": [
    "import os\n",
    "\n",
    "os.environ[\"DEBUG\"] = \"\"  # Set this to \"\" to call Replicate's API, \"1\" to call the mock function\n",
    "os.environ[\"REPLICATE_API_TOKEN\"] = \"\"  # Set your API token here"
   ]
  },
  {
   "cell_type": "markdown",
   "id": "842f1e47",
   "metadata": {},
   "source": [
    "Then we'll import the relevant `prompttools` modules to setup our experiment."
   ]
  },
  {
   "cell_type": "code",
   "execution_count": 2,
   "id": "beaa70a1",
   "metadata": {},
   "outputs": [],
   "source": [
    "from prompttools.experiment import ReplicateExperiment"
   ]
  },
  {
   "cell_type": "markdown",
   "id": "622dea9a",
   "metadata": {},
   "source": [
    "## Run an experiment"
   ]
  },
  {
   "cell_type": "markdown",
   "id": "3babfe5a",
   "metadata": {},
   "source": [
    "Next, we create our test inputs. We can iterate over models, inputs, and configurations."
   ]
  },
  {
   "cell_type": "code",
   "execution_count": 3,
   "id": "347590cf",
   "metadata": {},
   "outputs": [],
   "source": [
    "sd1 = \"stability-ai/stable-diffusion:ac732df83cea7fff18b8472768c88ad041fa750ff7682a21affe81863cbe77e4\"\n",
    "models = [sd1]  # You can specify multiple models here\n",
    "input_kwargs = {\"prompt\": [\"a 19th century portrait of a wombat gentleman\",\n",
    "                           \"a 22nd century portrait of a wombat gentleman\"],\n",
    "                \"num_inference_steps\": [10, 60]}\n",
    "model_specific_kwargs = {sd1: {}}\n",
    "\n",
    "experiment = ReplicateExperiment(models, input_kwargs, model_specific_kwargs, use_image_model=True)"
   ]
  },
  {
   "cell_type": "markdown",
   "id": "e3bbccfa",
   "metadata": {},
   "source": [
    "We can then run the experiment to get results."
   ]
  },
  {
   "cell_type": "code",
   "execution_count": 4,
   "id": "ca01ff10",
   "metadata": {
    "scrolled": true
   },
   "outputs": [
    {
     "data": {
      "text/html": [
       "<table border=\"1\" class=\"dataframe\">\n",
       "  <thead>\n",
       "    <tr style=\"text-align: right;\">\n",
       "      <th></th>\n",
       "      <th>prompt</th>\n",
       "      <th>num_inference_steps</th>\n",
       "      <th>latency</th>\n",
       "      <th>images</th>\n",
       "    </tr>\n",
       "  </thead>\n",
       "  <tbody>\n",
       "    <tr>\n",
       "      <th>0</th>\n",
       "      <td>a 19th century portrait of a wombat gentleman</td>\n",
       "      <td>10</td>\n",
       "      <td>3.172597</td>\n",
       "      <td><img src=\"https://pbxt.replicate.delivery/LBOOojMRMXr1ERnYKXHq6XYzhLeIQe53QpLK8Z4efh1NJ1DGB/out-0.png\" width=\"300\"/></td>\n",
       "    </tr>\n",
       "    <tr>\n",
       "      <th>1</th>\n",
       "      <td>a 19th century portrait of a wombat gentleman</td>\n",
       "      <td>60</td>\n",
       "      <td>5.102608</td>\n",
       "      <td><img src=\"https://pbxt.replicate.delivery/O52kqIwSJpboApyRx3Js8nGIYa7yfW3pftOof8sd3e9fSqHMC/out-0.png\" width=\"300\"/></td>\n",
       "    </tr>\n",
       "    <tr>\n",
       "      <th>2</th>\n",
       "      <td>a 22nd century portrait of a wombat gentleman</td>\n",
       "      <td>10</td>\n",
       "      <td>4.341799</td>\n",
       "      <td><img src=\"https://pbxt.replicate.delivery/389IZcXN5uJoN9c1Hw3Gw7SOpZ2CwKNiE0fgL3s2pZNOpegRA/out-0.png\" width=\"300\"/></td>\n",
       "    </tr>\n",
       "    <tr>\n",
       "      <th>3</th>\n",
       "      <td>a 22nd century portrait of a wombat gentleman</td>\n",
       "      <td>60</td>\n",
       "      <td>4.258093</td>\n",
       "      <td><img src=\"https://pbxt.replicate.delivery/DivsgbvAK27zJBndRsM2q7foHjx0HErQfNSDJ26ZaLlgS9gRA/out-0.png\" width=\"300\"/></td>\n",
       "    </tr>\n",
       "  </tbody>\n",
       "</table>"
      ],
      "text/plain": [
       "<IPython.core.display.HTML object>"
      ]
     },
     "metadata": {},
     "output_type": "display_data"
    }
   ],
   "source": [
    "experiment.run()\n",
    "experiment.visualize()"
   ]
  },
  {
   "cell_type": "markdown",
   "id": "266c13eb",
   "metadata": {},
   "source": [
    "## Evaluate the model response"
   ]
  },
  {
   "cell_type": "markdown",
   "id": "bebb8023",
   "metadata": {},
   "source": [
    "The Stable Diffusion notebook example povides an example of structural similarity evaluation. Please reference that example if you are interested automated evaluation of images.\n",
    "\n",
    "Please don't hesitate to open an issue or PR if you have any other suggestions evaluation of image models!"
   ]
  }
 ],
 "metadata": {
  "kernelspec": {
   "display_name": "Python 3 (ipykernel)",
   "language": "python",
   "name": "python3"
  },
  "language_info": {
   "codemirror_mode": {
    "name": "ipython",
    "version": 3
   },
   "file_extension": ".py",
   "mimetype": "text/x-python",
   "name": "python",
   "nbconvert_exporter": "python",
   "pygments_lexer": "ipython3",
   "version": "3.11.4"
  }
 },
 "nbformat": 4,
 "nbformat_minor": 5
}
