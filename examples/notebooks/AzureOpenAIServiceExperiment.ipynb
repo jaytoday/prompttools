{
 "cells": [
  {
   "cell_type": "markdown",
   "id": "0a13ddc8",
   "metadata": {},
   "source": [
    "# Azure OpenAI Experiment Example"
   ]
  },
  {
   "cell_type": "markdown",
   "id": "a6ce89a6",
   "metadata": {},
   "source": [
    "The purpose of this example is to show how you can use Azure OpenAI Service in addition to OpenAI's API. If you are interested to learn more about what you can do with experiments and evaluation. Please have a look at other notebooks."
   ]
  },
  {
   "cell_type": "markdown",
   "id": "623f0cfe",
   "metadata": {},
   "source": [
    "## Installations"
   ]
  },
  {
   "cell_type": "code",
   "execution_count": 1,
   "id": "885dabeb",
   "metadata": {
    "ExecuteTime": {
     "end_time": "2023-08-23T20:15:59.891935Z",
     "start_time": "2023-08-23T20:15:59.888576Z"
    }
   },
   "outputs": [],
   "source": [
    "# !pip install --quiet --force-reinstall prompttools"
   ]
  },
  {
   "cell_type": "markdown",
   "id": "2eac35f8",
   "metadata": {},
   "source": [
    "## Setup imports and API keys"
   ]
  },
  {
   "cell_type": "markdown",
   "id": "5edba05a",
   "metadata": {},
   "source": [
    "First, we'll need to set our Azure API key."
   ]
  },
  {
   "cell_type": "code",
   "execution_count": 1,
   "id": "ed4e635e",
   "metadata": {},
   "outputs": [],
   "source": [
    "import os\n",
    "\n",
    "os.environ[\"AZURE_OPENAI_KEY\"] = \"\"  # Insert your Azure OpenAI key here"
   ]
  },
  {
   "cell_type": "markdown",
   "id": "842f1e47",
   "metadata": {},
   "source": [
    "Then we'll import the relevant `prompttools` modules to setup our experiment."
   ]
  },
  {
   "cell_type": "code",
   "execution_count": 2,
   "id": "beaa70a1",
   "metadata": {},
   "outputs": [],
   "source": [
    "from prompttools.experiment import OpenAICompletionExperiment, OpenAIChatExperiment"
   ]
  },
  {
   "cell_type": "markdown",
   "id": "622dea9a",
   "metadata": {},
   "source": [
    "## Run an experiment"
   ]
  },
  {
   "cell_type": "markdown",
   "id": "3babfe5a",
   "metadata": {},
   "source": [
    "To use the Azure OpenAI Serivce instead of OpenAI's API, you can use the same experiment with some minor changes:\n",
    "- Pass the names of your deployed models into the `models` parameter\n",
    "- Create a dictionary to specify your Azure OpenAI configs, which include 1) link to your end point, 2) API Type (\"azure\"), and 3) API version\n",
    "\n",
    "Everything else should be the same and you can test over different prompts and parameters as usual.\n",
    "\n",
    "Note: If you do not have an Azure OpenAI Endpoint and deployment set up, you should first follow Azure's official instruction to do so."
   ]
  },
  {
   "cell_type": "markdown",
   "id": "f2e51d6c",
   "metadata": {},
   "source": [
    "#### In the first example, we will show you how to use Azure with `OpenAICompletionExperiment`.  This is for text completion."
   ]
  },
  {
   "cell_type": "code",
   "execution_count": 4,
   "id": "9114cfbf",
   "metadata": {},
   "outputs": [],
   "source": [
    "# You can test multiple deployed models here, use their deployment names on Azure\n",
    "models = [\"REPLACE_WITH_YOUR_DEPLOYMENT_NAME\", \"DEPLOYMENT2\"]\n",
    "prompts = [\n",
    "    \"Write a tagline for an ice cream shop.\",\n",
    "    \"Tell me a joke.\"\n",
    "]\n",
    "\n",
    "azure_openai_service_configs = {\"AZURE_OPENAI_ENDPOINT\": \"https://YOURENDPOINTNAME.openai.azure.com/\",\n",
    "                                \"API_VERSION\": \"2023-05-15\"}  # Specify which API version to use\n",
    "temperatures = [0.0, 1.0]\n",
    "# You can add more parameters that you'd like to test here.\n",
    "\n",
    "experiment = OpenAICompletionExperiment(models, prompts, temperature=temperatures,\n",
    "                                        azure_openai_service_configs=azure_openai_service_configs)"
   ]
  },
  {
   "cell_type": "markdown",
   "id": "f3fa5450",
   "metadata": {},
   "source": [
    "We can then run the experiment to get results."
   ]
  },
  {
   "cell_type": "code",
   "execution_count": 5,
   "id": "779d3d26",
   "metadata": {},
   "outputs": [
    {
     "data": {
      "text/html": [
       "<div>\n",
       "<style scoped>\n",
       "    .dataframe tbody tr th:only-of-type {\n",
       "        vertical-align: middle;\n",
       "    }\n",
       "\n",
       "    .dataframe tbody tr th {\n",
       "        vertical-align: top;\n",
       "    }\n",
       "\n",
       "    .dataframe thead th {\n",
       "        text-align: right;\n",
       "    }\n",
       "</style>\n",
       "<table border=\"1\" class=\"dataframe\">\n",
       "  <thead>\n",
       "    <tr style=\"text-align: right;\">\n",
       "      <th></th>\n",
       "      <th>prompt</th>\n",
       "      <th>temperature</th>\n",
       "      <th>response</th>\n",
       "      <th>latency</th>\n",
       "    </tr>\n",
       "  </thead>\n",
       "  <tbody>\n",
       "    <tr>\n",
       "      <th>0</th>\n",
       "      <td>Write a tagline for an ice cream shop.</td>\n",
       "      <td>0.0</td>\n",
       "      <td>The tagline should be no more than seven words.\\n\\nWhat is your favorite ice</td>\n",
       "      <td>1.077183</td>\n",
       "    </tr>\n",
       "    <tr>\n",
       "      <th>1</th>\n",
       "      <td>Write a tagline for an ice cream shop.</td>\n",
       "      <td>1.0</td>\n",
       "      <td>Use wordplay and be creative!\\n\\nEnjoy the cold, always here to comfort your</td>\n",
       "      <td>0.810754</td>\n",
       "    </tr>\n",
       "    <tr>\n",
       "      <th>2</th>\n",
       "      <td>Tell me a joke.</td>\n",
       "      <td>0.0</td>\n",
       "      <td>(laughing)\\n\\nI'm not sure I can help you with that.\\n\\n</td>\n",
       "      <td>0.617487</td>\n",
       "    </tr>\n",
       "    <tr>\n",
       "      <th>3</th>\n",
       "      <td>Tell me a joke.</td>\n",
       "      <td>1.0</td>\n",
       "      <td>A joke? Okay, um. How are you doing today? I'm good</td>\n",
       "      <td>0.704616</td>\n",
       "    </tr>\n",
       "  </tbody>\n",
       "</table>\n",
       "</div>"
      ],
      "text/plain": [
       "                                   prompt  temperature  \\\n",
       "0  Write a tagline for an ice cream shop.  0.0           \n",
       "1  Write a tagline for an ice cream shop.  1.0           \n",
       "2  Tell me a joke.                         0.0           \n",
       "3  Tell me a joke.                         1.0           \n",
       "\n",
       "                                                                        response  \\\n",
       "0   The tagline should be no more than seven words.\\n\\nWhat is your favorite ice   \n",
       "1   Use wordplay and be creative!\\n\\nEnjoy the cold, always here to comfort your   \n",
       "2   (laughing)\\n\\nI'm not sure I can help you with that.\\n\\n                       \n",
       "3   A joke? Okay, um. How are you doing today? I'm good                            \n",
       "\n",
       "    latency  \n",
       "0  1.077183  \n",
       "1  0.810754  \n",
       "2  0.617487  \n",
       "3  0.704616  "
      ]
     },
     "metadata": {},
     "output_type": "display_data"
    }
   ],
   "source": [
    "experiment.run()\n",
    "experiment.visualize()"
   ]
  },
  {
   "cell_type": "markdown",
   "id": "9384ab39",
   "metadata": {},
   "source": [
    "#### In the second example, we will show you how to use Azure with `OpenAIChatExperiment`. This is for chat completion."
   ]
  },
  {
   "cell_type": "code",
   "execution_count": 7,
   "id": "4cf5897b",
   "metadata": {},
   "outputs": [],
   "source": [
    "# You can test multiple deployed models here, use their deployment names on Azure\n",
    "models = [\"REPLACE_WITH_YOUR_DEPLOYMENT_NAME\", \"DEPLOYMENT2\"]\n",
    "messages = [\n",
    "    [\n",
    "        {\"role\": \"system\", \"content\": \"You are a helpful assistant.\"},\n",
    "        {\"role\": \"user\", \"content\": \"Who was the first president?\"},\n",
    "    ],\n",
    "    [\n",
    "        {\"role\": \"system\", \"content\": \"You are a creative copywriter.\"},\n",
    "        {\"role\": \"user\", \"content\": \"Write a tagline for an ice cream shop.\"},\n",
    "    ],\n",
    "]\n",
    "\n",
    "azure_openai_service_configs = {\"AZURE_OPENAI_ENDPOINT\": \"https://YOURENDPOINTNAME.openai.azure.com/\",\n",
    "                                \"API_VERSION\": \"2023-05-15\"}  # Specify which API version to use\n",
    "temperatures = [0.0, 1.0]\n",
    "# You can add more parameters that you'd like to test here.\n",
    "\n",
    "experiment = OpenAIChatExperiment(models, messages, temperature=temperatures,\n",
    "                                  azure_openai_service_configs=azure_openai_service_configs)"
   ]
  },
  {
   "cell_type": "code",
   "execution_count": null,
   "id": "2d261524",
   "metadata": {},
   "outputs": [],
   "source": [
    "experiment.run()\n",
    "experiment.visualize()"
   ]
  },
  {
   "cell_type": "markdown",
   "id": "266c13eb",
   "metadata": {},
   "source": [
    "## Evaluate the model response"
   ]
  },
  {
   "cell_type": "markdown",
   "id": "bebb8023",
   "metadata": {},
   "source": [
    "The notebook is meant to demonstrate how to use Azure's API instead of OpenAI's API. For evaluation examples, please examine the other notebook examples."
   ]
  }
 ],
 "metadata": {
  "kernelspec": {
   "display_name": "Python 3 (ipykernel)",
   "language": "python",
   "name": "python3"
  },
  "language_info": {
   "codemirror_mode": {
    "name": "ipython",
    "version": 3
   },
   "file_extension": ".py",
   "mimetype": "text/x-python",
   "name": "python",
   "nbconvert_exporter": "python",
   "pygments_lexer": "ipython3",
   "version": "3.11.4"
  }
 },
 "nbformat": 4,
 "nbformat_minor": 5
}
